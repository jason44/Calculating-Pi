{
 "cells": [
  {
   "cell_type": "code",
   "execution_count": 1,
   "id": "b01d99e0-2987-44a2-a3e0-a5984f414430",
   "metadata": {},
   "outputs": [],
   "source": [
    "from math import *\n",
    "import time"
   ]
  },
  {
   "cell_type": "code",
   "execution_count": 2,
   "id": "57fdc15f-d5bc-4047-88a1-463a5e355473",
   "metadata": {},
   "outputs": [],
   "source": [
    "def time_routine(f, its):\n",
    "    start = time.time()\n",
    "    print(f(its))\n",
    "    end = time.time()\n",
    "    print(f'process finished in {(end - start) * 1000:.3f} ms')"
   ]
  },
  {
   "cell_type": "code",
   "execution_count": 3,
   "id": "3ccbf35a-e038-4332-9ea8-dcddc1e7923a",
   "metadata": {},
   "outputs": [
    {
     "data": {
      "text/plain": [
       "3.1415926535886185"
      ]
     },
     "execution_count": 3,
     "metadata": {},
     "output_type": "execute_result"
    }
   ],
   "source": [
    "def viete(its):\n",
    "    v = 1\n",
    "    p = sqrt(2)\n",
    "    for i in range(its):\n",
    "        v *= p\n",
    "        p = sqrt(2 + p)\n",
    "    return 2/(v * 0.5**its)\n",
    "\n",
    "viete(20)"
   ]
  },
  {
   "cell_type": "code",
   "execution_count": 4,
   "id": "7b1cb494-cc4c-4a12-ab3e-f0408b7ac8ab",
   "metadata": {},
   "outputs": [
    {
     "data": {
      "text/plain": [
       "3.1412000771927824"
      ]
     },
     "execution_count": 4,
     "metadata": {},
     "output_type": "execute_result"
    }
   ],
   "source": [
    "def wallis(its):\n",
    "    v = 1\n",
    "    for i in range(1, its+1):\n",
    "        num = 2*i\n",
    "        v *= (num / (num-1)) * (num / (num+1))\n",
    "    return 2*v\n",
    "\n",
    "wallis(2000)"
   ]
  },
  {
   "cell_type": "code",
   "execution_count": 5,
   "id": "9c98459c-76f9-4310-ab52-5871ae8cdac9",
   "metadata": {},
   "outputs": [
    {
     "data": {
      "text/plain": [
       "(3.1410926536210413, 3.141592653571403)"
      ]
     },
     "execution_count": 5,
     "metadata": {},
     "output_type": "execute_result"
    }
   ],
   "source": [
    "def leibniz(its):\n",
    "    v = 0\n",
    "    for n in range(0, its):\n",
    "        v += (-1)**n * (1/(2*n+1))\n",
    "    return 4*v\n",
    "\n",
    "def leibniz_fast(its):\n",
    "    v = 0\n",
    "    z = 1/sqrt(3)\n",
    "    for n in range(0, its):\n",
    "        x = 2*n + 1\n",
    "        v += (-1)**n * (z**x/x)\n",
    "    return 6*v\n",
    "\n",
    "leibniz(2000), leibniz_fast(20)"
   ]
  },
  {
   "cell_type": "code",
   "execution_count": 6,
   "id": "fdc9122c-7359-40ce-9be9-f9a4e546a4c8",
   "metadata": {},
   "outputs": [
    {
     "data": {
      "text/plain": [
       "(3.141592653589293, 3.141592653579562)"
      ]
     },
     "execution_count": 6,
     "metadata": {},
     "output_type": "execute_result"
    }
   ],
   "source": [
    "def euler(its):\n",
    "    v = 0\n",
    "    coeff = 1\n",
    "    for n in range(1, its+1):\n",
    "        v += coeff * (1/2)**n\n",
    "        coeff *= (2*n) / (2*n + 1)\n",
    "    return 4*v\n",
    "\n",
    "def euler_z(its):\n",
    "    v = 0\n",
    "    z = 1/sqrt(3)\n",
    "    coeff = 1\n",
    "    for n in range(1, its+1):\n",
    "        v += coeff * (z**(2*n - 1) / (1 + z**2)**n)\n",
    "        coeff *= (2*n) / (2*n + 1)\n",
    "    return 6*v\n",
    "\n",
    "euler(40), euler_z(18)"
   ]
  },
  {
   "cell_type": "code",
   "execution_count": 10,
   "id": "82582391-faf6-415f-9aab-e9e24af5ff22",
   "metadata": {},
   "outputs": [
    {
     "data": {
      "text/plain": [
       "3.141592653589793"
      ]
     },
     "execution_count": 10,
     "metadata": {},
     "output_type": "execute_result"
    }
   ],
   "source": [
    "def ramanujan(its):\n",
    "    v = 0\n",
    "    coeff = sqrt(8)/9801\n",
    "    for i in range(its):\n",
    "        v += (factorial(4*i) * (1103 + 26390*i)) / (factorial(i)**4 * (396**(4*i)))\n",
    "    return 1/(coeff*v)\n",
    "ramanujan(3)"
   ]
  },
  {
   "cell_type": "code",
   "execution_count": 17,
   "id": "cb0641f9-f2a8-4307-a1b4-285110c88cc4",
   "metadata": {},
   "outputs": [
    {
     "data": {
      "text/plain": [
       "3.1415926535897345"
      ]
     },
     "execution_count": 17,
     "metadata": {},
     "output_type": "execute_result"
    }
   ],
   "source": [
    "def chudnovsky(its):\n",
    "    v = 0\n",
    "    coeff = sqrt(10005)/4270934400\n",
    "    for i in range(its):\n",
    "        v += (factorial(6*i) *(13591409 + 545140134*i)) / (factorial(3*i) * factorial(i)**3 * (-640320)**(3*i))\n",
    "    return 1/(coeff*v)\n",
    "\n",
    "chudnovsky(1)"
   ]
  },
  {
   "cell_type": "code",
   "execution_count": 20,
   "id": "d13be662-c4c6-4a3c-9ac7-49f0a0d246bc",
   "metadata": {},
   "outputs": [
    {
     "name": "stdout",
     "output_type": "stream",
     "text": [
      "3.1415926535886185\n",
      "process finished in 0.048 ms\n",
      "3.1412000771927824\n",
      "process finished in 0.389 ms\n",
      "3.140592653839794\n",
      "process finished in 0.215 ms\n",
      "3.141592653571403\n",
      "process finished in 0.013 ms\n",
      "3.141592653589293\n",
      "process finished in 0.011 ms\n",
      "3.141592653589184\n",
      "process finished in 0.013 ms\n",
      "3.1415926535897936\n",
      "process finished in 0.010 ms\n",
      "3.1415926535897345\n",
      "process finished in 0.007 ms\n"
     ]
    }
   ],
   "source": [
    "time_routine(viete, 20)\n",
    "time_routine(wallis, 2000)\n",
    "time_routine(leibniz, 1000)\n",
    "time_routine(leibniz_fast, 20)\n",
    "time_routine(euler, 40)\n",
    "time_routine(euler_z, 20)\n",
    "time_routine(ramanujan, 2)\n",
    "time_routine(chudnovsky, 1)"
   ]
  }
 ],
 "metadata": {
  "kernelspec": {
   "display_name": "Python 3 (ipykernel)",
   "language": "python",
   "name": "python3"
  },
  "language_info": {
   "codemirror_mode": {
    "name": "ipython",
    "version": 3
   },
   "file_extension": ".py",
   "mimetype": "text/x-python",
   "name": "python",
   "nbconvert_exporter": "python",
   "pygments_lexer": "ipython3",
   "version": "3.12.3"
  }
 },
 "nbformat": 4,
 "nbformat_minor": 5
}
